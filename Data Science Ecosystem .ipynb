{
 "cells": [
  {
   "cell_type": "markdown",
   "id": "7fa2f35e",
   "metadata": {},
   "source": [
    "# Data Science Tools and Ecosystem"
   ]
  },
  {
   "cell_type": "markdown",
   "id": "aa6c440e",
   "metadata": {},
   "source": [
    "Some of the popular languages that Data Scientist use are  \n",
    "\n",
    "1. Python  \n",
    "\n",
    "2. R \n",
    "\n",
    "3. SQL "
   ]
  },
  {
   "cell_type": "markdown",
   "id": "0e31fae3",
   "metadata": {},
   "source": [
    "In this notebook Data Science Tools and Ecosystem and summarized "
   ]
  },
  {
   "cell_type": "markdown",
   "id": "816d62c7",
   "metadata": {},
   "source": [
    "Some of the key takeaways from the course.\n",
    "\n",
    "**Objectives**\n",
    "\n",
    "- list of commonly used libraries by Data Scientists.\n",
    "- table of Data Science tools\n",
    "- evaluating arthematic expression in Python"
   ]
  },
  {
   "cell_type": "markdown",
   "id": "2a464130",
   "metadata": {},
   "source": [
    "Some of the commonly used libraries used by Data Scientists include: \n",
    "\n",
    "     \n",
    "\n",
    "1. Pandas \n",
    "\n",
    "2. Numpy \n",
    "\n",
    "3. Scikit-learn "
   ]
  },
  {
   "cell_type": "markdown",
   "id": "1ab3f77f",
   "metadata": {},
   "source": [
    "# Table"
   ]
  },
  {
   "cell_type": "markdown",
   "id": "60d37a9f",
   "metadata": {},
   "source": [
    "|Data Science Tools|\n",
    "|---|\n",
    "|Rstudio|\n",
    "|Apache Spark|\n",
    "|TensorFlow|\n"
   ]
  },
  {
   "cell_type": "code",
   "execution_count": 4,
   "id": "35328a51",
   "metadata": {},
   "outputs": [],
   "source": [
    "### Below are a few examples of evaluating arthmetic expressions in Python"
   ]
  },
  {
   "cell_type": "code",
   "execution_count": 10,
   "id": "976f8dae",
   "metadata": {},
   "outputs": [
    {
     "data": {
      "text/plain": [
       "17"
      ]
     },
     "execution_count": 10,
     "metadata": {},
     "output_type": "execute_result"
    }
   ],
   "source": [
    "This is a simple arithmetic expression to multiply then add integers (3*4)+5 "
   ]
  },
  {
   "cell_type": "code",
   "execution_count": 2,
   "id": "6c440015",
   "metadata": {},
   "outputs": [
    {
     "data": {
      "text/plain": [
       "3.3333333333333335"
      ]
     },
     "execution_count": 2,
     "metadata": {},
     "output_type": "execute_result"
    }
   ],
   "source": [
    "This will convert 200 minutes to hours by dividing by 60. 200/60"
   ]
  },
  {
   "cell_type": "markdown",
   "id": "80d3f1fa",
   "metadata": {},
   "source": [
    "## Author\n",
    "Sumit"
   ]
  },
  {
   "cell_type": "code",
   "execution_count": null,
   "id": "8bae50ae",
   "metadata": {},
   "outputs": [],
   "source": []
  }
 ],
 "metadata": {
  "kernelspec": {
   "display_name": "Python 3 (ipykernel)",
   "language": "python",
   "name": "python3"
  },
  "language_info": {
   "codemirror_mode": {
    "name": "ipython",
    "version": 3
   },
   "file_extension": ".py",
   "mimetype": "text/x-python",
   "name": "python",
   "nbconvert_exporter": "python",
   "pygments_lexer": "ipython3",
   "version": "3.11.5"
  }
 },
 "nbformat": 4,
 "nbformat_minor": 5
}
